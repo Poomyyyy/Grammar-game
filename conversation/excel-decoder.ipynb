{
 "cells": [
  {
   "cell_type": "code",
   "execution_count": null,
   "metadata": {},
   "outputs": [],
   "source": [
    "import pandas as pd\n",
    "import json\n",
    "\"\"\"\n",
    "     ██╗███████╗ ██████╗ ███╗   ██╗    ███████╗███╗   ██╗ ██████╗ ██████╗ ██████╗ ███████╗██████╗     \n",
    "     ██║██╔════╝██╔═══██╗████╗  ██║    ██╔════╝████╗  ██║██╔════╝██╔═══██╗██╔══██╗██╔════╝██╔══██╗    \n",
    "     ██║███████╗██║   ██║██╔██╗ ██║    █████╗  ██╔██╗ ██║██║     ██║   ██║██║  ██║█████╗  ██████╔╝    \n",
    "██   ██║╚════██║██║   ██║██║╚██╗██║    ██╔══╝  ██║╚██╗██║██║     ██║   ██║██║  ██║██╔══╝  ██╔══██╗    \n",
    "╚█████╔╝███████║╚██████╔╝██║ ╚████║    ███████╗██║ ╚████║╚██████╗╚██████╔╝██████╔╝███████╗██║  ██║    \n",
    " ╚════╝ ╚══════╝ ╚═════╝ ╚═╝  ╚═══╝    ╚══════╝╚═╝  ╚═══╝ ╚═════╝ ╚═════╝ ╚═════╝ ╚══════╝╚═╝  ╚═╝    \n",
    "\"\"\"\n",
    "# Read the Excel document\n",
    "EX_PATH = r\"Future-Perfect-Continuous.xlsx\" #replace with file path\n",
    "excel_data_df = pd.read_excel(EX_PATH, sheet_name='Sheet1')\n",
    "# or read csv file\n",
    "#excel_data_df = pd.read_csv(EX_PATH, sheet_name='Sheet1')"
   ]
  },
  {
   "cell_type": "code",
   "execution_count": null,
   "metadata": {},
   "outputs": [],
   "source": [
    "excel_data_df.columns.values[0] = 'id'\n",
    "excel_data_df.columns.values[1] = 'sequence'\n",
    "excel_data_df.columns.values[2] = 'raw_sentence'\n",
    "excel_data_df.columns.values[3] = 'err_i'\n",
    "excel_data_df.columns.values[4] = 'correct'\n",
    "excel_data_df.columns.values[5] = 'err_code'\n",
    "\n",
    "excel_data_df"
   ]
  },
  {
   "cell_type": "code",
   "execution_count": null,
   "metadata": {},
   "outputs": [],
   "source": [
    "excel_data_df['sentence'] = ''\n",
    "\n",
    "for i, sentence in enumerate(excel_data_df['raw_sentence']):\n",
    "    print(sentence)\n",
    "    sentence = sentence.replace('\\\"', '\\'')\n",
    "    sub_sentence = sentence.split(\" \")\n",
    "    print(sub_sentence)\n",
    "    #for word in sub_sentence:\n",
    "    #    print('\"' + word + '\" ', end='')\n",
    "    #print('\\n')\n",
    "    print (i)\n",
    "    excel_data_df['sentence'][i] = sub_sentence"
   ]
  },
  {
   "cell_type": "code",
   "execution_count": null,
   "metadata": {},
   "outputs": [],
   "source": [
    "excel_data_df = excel_data_df.drop(columns='raw_sentence')"
   ]
  },
  {
   "cell_type": "code",
   "execution_count": null,
   "metadata": {},
   "outputs": [],
   "source": [
    "\n",
    "json_tense = \"\"\"\"conversation\" : [\"\"\"\n",
    "head = 0\n",
    "tail = 1\n",
    "indice = 0\n",
    "for i,sequence in enumerate(excel_data_df['sequence']):\n",
    "    indice = i\n",
    "    if (sequence > tail or tail == 1):\n",
    "        tail = sequence\n",
    "    else:\n",
    "        json_conv = excel_data_df[head:i]\n",
    "        json_tense = json_tense + json_conv.to_json(orient='records') + ','\n",
    "\n",
    "        head = i\n",
    "        tail = sequence\n",
    "        \n",
    "json_conv = excel_data_df[head:indice]\n",
    "json_tense = json_tense + json_conv.to_json(orient='records')\n",
    "\n",
    "json_tense = \"{\" + json_tense.replace('\\\\', '') + \"]}\" \n",
    "json_tense"
   ]
  },
  {
   "cell_type": "code",
   "execution_count": null,
   "metadata": {},
   "outputs": [],
   "source": [
    "# Export file\n",
    "# Write the JSON string to a file\n",
    "\n",
    "\n",
    "with open(EX_PATH + '.json', 'w') as json_file:\n",
    "    json.dump(json.loads(json_tense), json_file)\n",
    "\n",
    "print('Data exported to data.json')"
   ]
  }
 ],
 "metadata": {
  "kernelspec": {
   "display_name": "Python 3",
   "language": "python",
   "name": "python3"
  },
  "language_info": {
   "codemirror_mode": {
    "name": "ipython",
    "version": 3
   },
   "file_extension": ".py",
   "mimetype": "text/x-python",
   "name": "python",
   "nbconvert_exporter": "python",
   "pygments_lexer": "ipython3",
   "version": "3.12.3"
  }
 },
 "nbformat": 4,
 "nbformat_minor": 2
}
